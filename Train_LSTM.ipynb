{
 "nbformat": 4,
 "nbformat_minor": 0,
 "metadata": {
  "colab": {
   "name": "Train_LSTM.ipynb",
   "provenance": [],
   "collapsed_sections": []
  },
  "kernelspec": {
   "name": "python3",
   "display_name": "Python 3"
  },
  "accelerator": "GPU"
 },
 "cells": [
  {
   "cell_type": "code",
   "execution_count": null,
   "outputs": [],
   "source": [
    "# Import packages\n",
    "import matplotlib.pyplot as plt\n",
    "import numpy as np\n",
    "from tensorflow import keras\n",
    "import numpy as np"
   ],
   "metadata": {
    "collapsed": false,
    "pycharm": {
     "name": "#%%\n"
    }
   }
  },
  {
   "cell_type": "code",
   "metadata": {
    "id": "z3TG85RZGMYv"
   },
   "source": [
    "# Load Data\n",
    "data_filename =  '/PATH/TO/all_subs_data_w_footstrike.pkl'\n",
    "\n",
    "df = np.load(data_filename, allow_pickle=True)\n",
    "feats = df['train_feats']  # (trials, frames per trial, features)\n",
    "y = df['train_y']  # (trials, frames per trial)\n",
    "sub_info = df['train_Sub_Info']  # (trials, features)\n",
    "\n",
    "# Test LSTM on Representative Subject (#14 when sorted from lowest -> highest RMSE in paper). \n",
    "# Expect Validation MSE ~ 0.03 BW (RMSE = 0.17 BW).\n",
    "sub_num = 2\n",
    "\n",
    "test_X = feats[sub_info['Sub'] == sub_num,:,:]\n",
    "test_y = y[sub_info['Sub'] == sub_num,:]\n",
    "\n",
    "train_X = feats[sub_info['Sub'] != sub_num,:,:] \n",
    "train_y = y[sub_info['Sub'] != sub_num,:]"
   ],
   "execution_count": 3,
   "outputs": []
  },
  {
   "cell_type": "code",
   "metadata": {
    "id": "TsAW5LbLGTBk"
   },
   "source": [
    "# Make sure GPU runtime is activated before training LSTM!\n",
    "\n",
    "# Build Model\n",
    "def build_model(lstm_size, lstm_act, dropout_rate, dense_act, lr=0.001, loss='mean_squared_error'):\n",
    "\n",
    "  #accelerometer data lstm model\n",
    "  model_inputs = keras.Input(shape=(None,train_X.shape[2]))\n",
    "  model_features = keras.layers.Dropout(0.2, seed=541)(model_inputs)\n",
    "  model_features = keras.layers.Bidirectional(keras.layers.LSTM(lstm_size, activation=lstm_act, return_sequences=True), merge_mode='ave')(model_features)\n",
    "  model_features = keras.layers.Dropout(dropout_rate, seed=541)(model_features)\n",
    "  model_features = keras.layers.Dense(128, activation=dense_act)(model_features)\n",
    "  model_features = keras.layers.Dense(384, activation=dense_act)(model_features)\n",
    "  model_features = keras.layers.Dense(320, activation=dense_act)(model_features)\n",
    "  model_outputs = keras.layers.Dense(1, activation='linear')(model_features)\n",
    "\n",
    "  model_out = keras.Model(inputs=model_inputs, outputs=model_outputs, name='LSTM')\n",
    "  # define optimizer algorithm and learning rate\n",
    "  opt = keras.optimizers.Adam(learning_rate =lr)\n",
    "  # compile model and define loss function\n",
    "  model_out.compile(optimizer=opt, loss=loss)\n",
    "\n",
    "  return model_out\n",
    "\n",
    "model = build_model(\n",
    "    lstm_size=512,\n",
    "    lstm_act='tanh',\n",
    "    dropout_rate=0.4,\n",
    "    dense_act='relu',\n",
    "    lr=0.001\n",
    "    )\n",
    "\n",
    "# Plot Model Architecture\n",
    "# keras.utils.plot_model(model, show_shapes=True, show_layer_names=True)"
   ],
   "execution_count": 4,
   "outputs": []
  },
  {
   "cell_type": "code",
   "metadata": {
    "id": "eqsEfcKhdde2"
   },
   "source": [
    "# Train Model\n",
    "\n",
    "# Define Early Stopping and Checkpoint Callbacks\n",
    "model_filename = '/PATH/TO/MODEL.h5'\n",
    "\n",
    "# Early Stopping\n",
    "es = keras.callbacks.EarlyStopping(monitor='val_loss', \n",
    "                                  mode='min', \n",
    "                                  verbose=0, \n",
    "                                  patience=30, \n",
    "                                  min_delta=0.001, \n",
    "                                  restore_best_weights=True\n",
    "                                  )\n",
    "# Model Checkpoint\n",
    "mc = keras.callbacks.ModelCheckpoint(\n",
    "    model_filename,\n",
    "    monitor='val_loss', \n",
    "    mode='min', \n",
    "    verbose=1, \n",
    "    save_best_only=True, \n",
    "    save_weights_only=False\n",
    "    )\n",
    "\n",
    "# Fit Model\n",
    "history_accel = model.fit(\n",
    "    train_X, \n",
    "    train_y, \n",
    "    epochs=1000,\n",
    "    validation_data=(test_X, test_y), \n",
    "    verbose=1,\n",
    "    batch_size=32, \n",
    "    callbacks=[es, mc]\n",
    "    )\n",
    "\n",
    "# Plot Train/Validation Loss across epochs\n",
    "plt.plot(history_accel.history['loss'], label = 'mse_train')\n",
    "plt.plot(history_accel.history['val_loss'], label = 'mse_validation')\n",
    "plt.legend()\n",
    "plt.show()\n",
    "\n",
    "keras.backend.clear_session()"
   ],
   "execution_count": null,
   "outputs": []
  },
  {
   "cell_type": "code",
   "metadata": {
    "colab": {
     "base_uri": "https://localhost:8080/"
    },
    "id": "fghi2QqPXXw7",
    "outputId": "de9b8181-c943-4e70-8264-2e3fa4b02ab6"
   },
   "source": [
    "# Load Trained Model and Calculate RMSE for GRF Waveform\n",
    "saved_model = keras.models.load_model(model_filename)\n",
    "\n",
    "pred_y = saved_model.predict(test_X)\n",
    "test_sub_info = sub_info.loc[sub_info['Sub'] == sub_num,:]\n",
    "\n",
    "test_y = np.squeeze(test_y)\n",
    "pred_y = np.squeeze(pred_y)\n",
    "\n",
    "rmse = []\n",
    "trim = 100  # Number of frames to ignore at edge of trial due to lack of prior data for LSTM.\n",
    "\n",
    "for trial in range(test_sub_info.shape[0]):\n",
    "  # Calculate RMSE\n",
    "  trial_rmse = np.sqrt(np.mean((pred_y[trial, trim:-trim] - test_y[trial, trim:-trim])**2))\n",
    "  trial_rmse = np.round(trial_rmse,3)\n",
    "  # Calculate rRMSE\n",
    "  trial_rrmse = trial_rmse / np.mean((\n",
    "      np.max(pred_y[trial, trim:-trim]) - np.min(pred_y[trial, trim:-trim]),\n",
    "      np.max(test_y[trial, trim:-trim]) - np.min(test_y[trial, trim:-trim])\n",
    "      ))*100\n",
    "  trial_rrmse = np.round(trial_rrmse, 2)\n",
    "\n",
    "  rmse.append(trial_rmse)\n",
    "\n",
    "# Expect RMSE of approximately 0.17 ± 0.07 BW for Representative Subject (#14 in paper)\n",
    "print('MEAN:', np.round(np.mean(rmse),2))\n",
    "print('SD:', np.round(np.std(rmse),2))"
   ],
   "execution_count": 9,
   "outputs": [
    {
     "output_type": "stream",
     "text": [
      "MEAN: 0.16\n",
      "SD: 0.05\n"
     ],
     "name": "stdout"
    }
   ]
  }
 ]
}